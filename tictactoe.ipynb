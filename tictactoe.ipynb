{
 "cells": [
  {
   "cell_type": "code",
   "execution_count": null,
   "metadata": {},
   "outputs": [],
   "source": [
    "def same(a,b):\n",
    "    i=0\n",
    "    while i < len(a):\n",
    "        if a[i] == b:\n",
    "            b = input(\"Sorry, it has already been taken.. please select another:\\n\").title()\n",
    "            i = -1\n",
    "        i += 1\n",
    "    return b\n",
    "def win(table,mark):\n",
    "    if table[0][0] == table[1][1] == table[2][2] == mark or table[0][2] == table[1][1] == table[2][0] == mark:\n",
    "        return True\n",
    "    else:\n",
    "        for i in range(0,3):\n",
    "            if table[i][0] == table[i][1] == table[i][2] == mark or table[0][i] == table[1][i] == table[2][i] == mark:\n",
    "                return True\n",
    "print(\"\\nTIC TAC TOE GAME\")\n",
    "player1 = [\"\"]\n",
    "mark1 = [\"\"]\n",
    "player1[0] = input(\"Player 1 enter your name:\\n\").title()\n",
    "mark1[0] = input(player1[0] + \" select your mark from any keyboard character:\\n\").title()\n",
    "player2 = input(\"Player 2 enter your name:\\n\").title()\n",
    "player2 = same(player1,player2)\n",
    "mark2 = input(player2 + \" select your mark from any keyboard character:\\n\").title()\n",
    "mark2 = same(mark1,mark2)\n",
    "table = [3*[\"_\"],3*[\"_\"],3*[\"_\"]]\n",
    "taken =[]\n",
    "for i in range(1,10):\n",
    "    print(\"┌───┬───┬───┐\")\n",
    "    print(\"│ \"+str(table[0][0])+\" │ \"+str(table[0][1])+\" │ \"+str(table[0][2])+\" │\")\n",
    "    print(\"├───┼───┼───┤\")\n",
    "    print(\"│ \"+str(table[1][0])+\" │ \"+str(table[1][1])+\" │ \"+str(table[1][2])+\" │\")\n",
    "    print(\"├───┼───┼───┤\")\n",
    "    print(\"│ \"+str(table[2][0])+\" │ \"+str(table[2][1])+\" │ \"+str(table[2][2])+\" │\")\n",
    "    print(\"└───┴───┴───┘\")\n",
    "    if i % 2 != 0:\n",
    "        turn = input(player1[0] + \" enter your move <row><column>\")\n",
    "        turn = same(taken,turn)\n",
    "        table[int(turn[0])-1][int(turn[1])-1] = mark1[0]\n",
    "    else:\n",
    "        turn = input(player2 + \" enter your move <row><column>\")\n",
    "        turn = same(taken,turn)\n",
    "        table[int(turn[0])-1][int(turn[1])-1] = mark2    \n",
    "    taken.append(turn)\n",
    "    if i > 4:\n",
    "        if win(table,mark1[0]):\n",
    "            print(player1[0], \"wins !!!\")\n",
    "            break\n",
    "        elif win(table,mark2):\n",
    "            print(player2, \"wins !!!\")\n",
    "            break\n",
    "        elif i == 9:\n",
    "            print(\"Match tied !!!\")"
   ]
  },
  {
   "cell_type": "code",
   "execution_count": null,
   "metadata": {},
   "outputs": [],
   "source": []
  }
 ],
 "metadata": {
  "kernelspec": {
   "display_name": "Python 3",
   "language": "python",
   "name": "python3"
  },
  "language_info": {
   "codemirror_mode": {
    "name": "ipython",
    "version": 3
   },
   "file_extension": ".py",
   "mimetype": "text/x-python",
   "name": "python",
   "nbconvert_exporter": "python",
   "pygments_lexer": "ipython3",
   "version": "3.6.7"
  }
 },
 "nbformat": 4,
 "nbformat_minor": 2
}
